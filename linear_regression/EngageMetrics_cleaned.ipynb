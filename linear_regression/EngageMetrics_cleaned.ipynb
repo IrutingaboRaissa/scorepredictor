{
 "cells": [
  {
   "cell_type": "markdown",
   "metadata": {},
   "source": [
    "# EngageMetrics: Student Performance Predictor\n",
    "\n",
    "**Use Case:** Predicting student exam scores based on multiple factors (attendance, parental involvement, etc.).\n",
    "\n",
    "**Dataset Source:** [Kaggle - Student Performance Factors](https://www.kaggle.com/datasets/lainguyn123/student-performance-factors)\n",
    "\n",
    "**Objective:** Build a machine learning model to predict student exam scores using various engagement metrics."
   ]
  },
  {
   "cell_type": "markdown",
   "metadata": {},
   "source": [
    "## 1. Import Libraries and Load Data"
   ]
  },
  {
   "cell_type": "code",
   "execution_count": null,
   "metadata": {},
   "outputs": [],
   "source": [
    "import pandas as pd\n",
    "import numpy as np\n",
    "import matplotlib.pyplot as plt\n",
    "import seaborn as sns\n",
    "import joblib\n",
    "from sklearn.model_selection import train_test_split, learning_curve\n",
    "from sklearn.linear_model import LinearRegression\n",
    "from sklearn.tree import DecisionTreeRegressor\n",
    "from sklearn.ensemble import RandomForestRegressor\n",
    "from sklearn.metrics import mean_squared_error, r2_score\n",
    "from sklearn.preprocessing import StandardScaler\n",
    "from sklearn.impute import SimpleImputer\n",
    "\n",
    "# Load the cleaned dataset\n",
    "df = pd.read_csv('student_performance_cleaned.csv')\n",
    "print(f\"Dataset shape: {df.shape}\")\n",
    "print(f\"\\nDataset info:\")\n",
    "df.info()"
   ]
  },
  {
   "cell_type": "markdown",
   "metadata": {},
   "source": [
    "## 2. Data Exploration and Visualization"
   ]
  },
  {
   "cell_type": "code",
   "execution_count": null,
   "metadata": {},
   "outputs": [],
   "source": [
    "# Display basic statistics\n",
    "print(\"Dataset Description:\")\n",
    "print(df.describe())\n",
    "\n",
    "# Check for missing values\n",
    "print(\"\\nMissing values:\")\n",
    "print(df.isnull().sum())"
   ]
  },
  {
   "cell_type": "code",
   "execution_count": null,
   "metadata": {},
   "outputs": [],
   "source": [
    "# Correlation heatmap for numerical features\n",
    "numerical_cols = ['Hours_Studied', 'Attendance', 'Sleep_Hours', 'Previous_Scores', \n",
    "                  'Tutoring_Sessions', 'Physical_Activity', 'Exam_Score']\n",
    "\n",
    "plt.figure(figsize=(10, 8))\n",
    "correlation_matrix = df[numerical_cols].corr()\n",
    "sns.heatmap(correlation_matrix, annot=True, cmap='coolwarm', center=0, \n",
    "            square=True, linewidths=0.5)\n",
    "plt.title('Correlation Matrix of Numerical Features')\n",
    "plt.tight_layout()\n",
    "plt.show()"
   ]
  },
  {
   "cell_type": "markdown",
   "metadata": {},
   "source": [
    "## 3. Feature Engineering and Preprocessing"
   ]
  },
  {
   "cell_type": "code",
   "execution_count": null,
   "metadata": {},
   "outputs": [],
   "source": [
    "# Encode categorical variables\n",
    "from sklearn.preprocessing import LabelEncoder\n",
    "\n",
    "# Create a copy for preprocessing\n",
    "df_processed = df.copy()\n",
    "\n",
    "# Encode categorical variables\n",
    "categorical_cols = ['Parental_Involvement', 'Access_to_Resources', 'Extracurricular_Activities',\n",
    "                   'Motivation_Level', 'Internet_Access', 'Family_Income', 'Teacher_Quality',\n",
    "                   'School_Type', 'Peer_Influence', 'Learning_Disabilities', \n",
    "                   'Parental_Education_Level', 'Distance_from_Home', 'Gender']\n",
    "\n",
    "label_encoders = {}\n",
    "for col in categorical_cols:\n",
    "    if col in df_processed.columns:\n",
    "        le = LabelEncoder()\n",
    "        df_processed[col] = le.fit_transform(df_processed[col])\n",
    "        label_encoders[col] = le\n",
    "\n",
    "print(\"Categorical variables encoded successfully\")"
   ]
  },
  {
   "cell_type": "code",
   "execution_count": null,
   "metadata": {},
   "outputs": [],
   "source": [
    "# Select key features for the model based on correlation analysis\n",
    "selected_features = ['Attendance', 'Parental_Involvement', 'Sleep_Hours', \n",
    "                    'Previous_Scores', 'Hours_Studied', 'Tutoring_Sessions', \n",
    "                    'Physical_Activity']\n",
    "\n",
    "X = df_processed[selected_features]\n",
    "y = df_processed['Exam_Score']\n",
    "\n",
    "print(f\"Selected features: {selected_features}\")\n",
    "print(f\"Feature matrix shape: {X.shape}\")\n",
    "print(f\"Target vector shape: {y.shape}\")"
   ]
  },
  {
   "cell_type": "markdown",
   "metadata": {},
   "source": [
    "## 4. Data Preprocessing Pipeline"
   ]
  },
  {
   "cell_type": "code",
   "execution_count": null,
   "metadata": {},
   "outputs": [],
   "source": [
    "# Split the data\n",
    "X_train, X_test, y_train, y_test = train_test_split(X, y, test_size=0.2, random_state=42)\n",
    "\n",
    "# Handle missing values\n",
    "imputer = SimpleImputer(strategy='median')\n",
    "X_train_imputed = imputer.fit_transform(X_train)\n",
    "X_test_imputed = imputer.transform(X_test)\n",
    "\n",
    "# Scale the features\n",
    "scaler = StandardScaler()\n",
    "X_train_scaled = scaler.fit_transform(X_train_imputed)\n",
    "X_test_scaled = scaler.transform(X_test_imputed)\n",
    "\n",
    "print(f\"Training set shape: {X_train_scaled.shape}\")\n",
    "print(f\"Test set shape: {X_test_scaled.shape}\")"
   ]
  },
  {
   "cell_type": "markdown",
   "metadata": {},
   "source": [
    "## 5. Model Training and Evaluation"
   ]
  },
  {
   "cell_type": "code",
   "execution_count": null,
   "metadata": {},
   "outputs": [],
   "source": [
    "# Train multiple models\n",
    "models = {\n",
    "    'Linear Regression': LinearRegression(),\n",
    "    'Decision Tree': DecisionTreeRegressor(random_state=42),\n",
    "    'Random Forest': RandomForestRegressor(n_estimators=100, random_state=42)\n",
    "}\n",
    "\n",
    "model_results = {}\n",
    "\n",
    "for name, model in models.items():\n",
    "    # Train the model\n",
    "    model.fit(X_train_scaled, y_train)\n",
    "    \n",
    "    # Make predictions\n",
    "    y_pred = model.predict(X_test_scaled)\n",
    "    \n",
    "    # Calculate metrics\n",
    "    mse = mean_squared_error(y_test, y_pred)\n",
    "    r2 = r2_score(y_test, y_pred)\n",
    "    \n",
    "    model_results[name] = {\n",
    "        'model': model,\n",
    "        'mse': mse,\n",
    "        'rmse': np.sqrt(mse),\n",
    "        'r2': r2,\n",
    "        'predictions': y_pred\n",
    "    }\n",
    "    \n",
    "    print(f\"{name}:\")\n",
    "    print(f\"  MSE: {mse:.4f}\")\n",
    "    print(f\"  RMSE: {np.sqrt(mse):.4f}\")\n",
    "    print(f\"  R²: {r2:.4f}\")\n",
    "    print()"
   ]
  },
  {
   "cell_type": "markdown",
   "metadata": {},
   "source": [
    "## 6. Model Comparison and Selection"
   ]
  },
  {
   "cell_type": "code",
   "execution_count": null,
   "metadata": {},
   "outputs": [],
   "source": [
    "# Find the best model based on R² score\n",
    "best_model_name = max(model_results.keys(), key=lambda x: model_results[x]['r2'])\n",
    "best_model = model_results[best_model_name]['model']\n",
    "\n",
    "print(f\"Best model: {best_model_name}\")\n",
    "print(f\"Best R² score: {model_results[best_model_name]['r2']:.4f}\")\n",
    "\n",
    "# Visualize model comparison\n",
    "model_names = list(model_results.keys())\n",
    "r2_scores = [model_results[name]['r2'] for name in model_names]\n",
    "rmse_scores = [model_results[name]['rmse'] for name in model_names]\n",
    "\n",
    "fig, (ax1, ax2) = plt.subplots(1, 2, figsize=(12, 5))\n",
    "\n",
    "# R² scores\n",
    "ax1.bar(model_names, r2_scores, color=['skyblue', 'lightgreen', 'lightcoral'])\n",
    "ax1.set_title('Model Comparison - R² Score')\n",
    "ax1.set_ylabel('R² Score')\n",
    "ax1.set_ylim(0, 1)\n",
    "\n",
    "# RMSE scores\n",
    "ax2.bar(model_names, rmse_scores, color=['skyblue', 'lightgreen', 'lightcoral'])\n",
    "ax2.set_title('Model Comparison - RMSE')\n",
    "ax2.set_ylabel('RMSE')\n",
    "\n",
    "plt.tight_layout()\n",
    "plt.show()"
   ]
  },
  {
   "cell_type": "markdown",
   "metadata": {},
   "source": [
    "## 7. Feature Importance Analysis"
   ]
  },
  {
   "cell_type": "code",
   "execution_count": null,
   "metadata": {},
   "outputs": [],
   "source": [
    "# Feature importance for the best model (if it supports it)\n",
    "if hasattr(best_model, 'feature_importances_'):\n",
    "    feature_importance = pd.DataFrame({\n",
    "        'feature': selected_features,\n",
    "        'importance': best_model.feature_importances_\n",
    "    }).sort_values('importance', ascending=False)\n",
    "    \n",
    "    plt.figure(figsize=(10, 6))\n",
    "    sns.barplot(data=feature_importance, x='importance', y='feature')\n",
    "    plt.title(f'Feature Importance - {best_model_name}')\n",
    "    plt.xlabel('Importance')\n",
    "    plt.tight_layout()\n",
    "    plt.show()\n",
    "    \n",
    "    print(\"Feature Importance Ranking:\")\n",
    "    for idx, row in feature_importance.iterrows():\n",
    "        print(f\"{row['feature']}: {row['importance']:.4f}\")\n",
    "elif best_model_name == 'Linear Regression':\n",
    "    # For linear regression, show coefficients\n",
    "    coefficients = pd.DataFrame({\n",
    "        'feature': selected_features,\n",
    "        'coefficient': best_model.coef_\n",
    "    }).sort_values('coefficient', key=abs, ascending=False)\n",
    "    \n",
    "    plt.figure(figsize=(10, 6))\n",
    "    sns.barplot(data=coefficients, x='coefficient', y='feature')\n",
    "    plt.title('Linear Regression Coefficients')\n",
    "    plt.xlabel('Coefficient Value')\n",
    "    plt.tight_layout()\n",
    "    plt.show()\n",
    "    \n",
    "    print(\"Feature Coefficients:\")\n",
    "    for idx, row in coefficients.iterrows():\n",
    "        print(f\"{row['feature']}: {row['coefficient']:.4f}\")"
   ]
  },
  {
   "cell_type": "markdown",
   "metadata": {},
   "source": [
    "## 8. Model Validation and Predictions"
   ]
  },
  {
   "cell_type": "code",
   "execution_count": null,
   "metadata": {},
   "outputs": [],
   "source": [
    "# Prediction vs Actual scatter plot\n",
    "best_predictions = model_results[best_model_name]['predictions']\n",
    "\n",
    "plt.figure(figsize=(8, 6))\n",
    "plt.scatter(y_test, best_predictions, alpha=0.6)\n",
    "plt.plot([y_test.min(), y_test.max()], [y_test.min(), y_test.max()], 'r--', lw=2)\n",
    "plt.xlabel('Actual Exam Scores')\n",
    "plt.ylabel('Predicted Exam Scores')\n",
    "plt.title(f'Actual vs Predicted Scores - {best_model_name}')\n",
    "plt.grid(True, alpha=0.3)\n",
    "plt.show()\n",
    "\n",
    "# Residuals plot\n",
    "residuals = y_test - best_predictions\n",
    "plt.figure(figsize=(8, 6))\n",
    "plt.scatter(best_predictions, residuals, alpha=0.6)\n",
    "plt.axhline(y=0, color='r', linestyle='--')\n",
    "plt.xlabel('Predicted Exam Scores')\n",
    "plt.ylabel('Residuals')\n",
    "plt.title(f'Residuals Plot - {best_model_name}')\n",
    "plt.grid(True, alpha=0.3)\n",
    "plt.show()"
   ]
  },
  {
   "cell_type": "markdown",
   "metadata": {},
   "source": [
    "## 9. Save the Model and Preprocessing Components"
   ]
  },
  {
   "cell_type": "code",
   "execution_count": null,
   "metadata": {},
   "outputs": [],
   "source": [
    "# Save the best model, scaler, and imputer\n",
    "joblib.dump(best_model, 'best_model.joblib')\n",
    "joblib.dump(scaler, 'scaler.joblib')\n",
    "joblib.dump(imputer, 'imputer.joblib')\n",
    "\n",
    "print(f\"Model saved: {best_model_name}\")\n",
    "print(f\"Best model R² score: {model_results[best_model_name]['r2']:.4f}\")\n",
    "print(f\"Best model RMSE: {model_results[best_model_name]['rmse']:.4f}\")\n",
    "print(\"\\nFiles saved:\")\n",
    "print(\"- best_model.joblib\")\n",
    "print(\"- scaler.joblib\")\n",
    "print(\"- imputer.joblib\")"
   ]
  },
  {
   "cell_type": "markdown",
   "metadata": {},
   "source": [
    "## 10. Example Prediction"
   ]
  },
  {
   "cell_type": "code",
   "execution_count": null,
   "metadata": {},
   "outputs": [],
   "source": [
    "# Example prediction with new data\n",
    "def predict_exam_score(attendance, parental_involvement, sleep_hours, \n",
    "                      previous_scores, hours_studied, tutoring_sessions, \n",
    "                      physical_activity):\n",
    "    \"\"\"\n",
    "    Predict exam score based on input features\n",
    "    \n",
    "    Parameters:\n",
    "    - attendance: Attendance percentage (0-100)\n",
    "    - parental_involvement: Low=0, Medium=1, High=2\n",
    "    - sleep_hours: Hours of sleep per week\n",
    "    - previous_scores: Previous exam scores (0-100)\n",
    "    - hours_studied: Hours studied per week\n",
    "    - tutoring_sessions: Number of tutoring sessions per week\n",
    "    - physical_activity: Hours of physical activity per week\n",
    "    \"\"\"\n",
    "    # Create input array\n",
    "    input_data = np.array([[attendance, parental_involvement, sleep_hours,\n",
    "                           previous_scores, hours_studied, tutoring_sessions,\n",
    "                           physical_activity]])\n",
    "    \n",
    "    # Apply preprocessing\n",
    "    input_imputed = imputer.transform(input_data)\n",
    "    input_scaled = scaler.transform(input_imputed)\n",
    "    \n",
    "    # Make prediction\n",
    "    prediction = best_model.predict(input_scaled)[0]\n",
    "    \n",
    "    return prediction\n",
    "\n",
    "# Example usage\n",
    "example_score = predict_exam_score(\n",
    "    attendance=95,\n",
    "    parental_involvement=2,  # High\n",
    "    sleep_hours=56,\n",
    "    previous_scores=88,\n",
    "    hours_studied=10,\n",
    "    tutoring_sessions=1,\n",
    "    physical_activity=3\n",
    ")\n",
    "\n",
    "print(f\"Example prediction: {example_score:.2f}\")\n",
    "print(\"\\nInput features:\")\n",
    "print(f\"- Attendance: 95%\")\n",
    "print(f\"- Parental Involvement: High (2)\")\n",
    "print(f\"- Sleep Hours: 56 hours/week\")\n",
    "print(f\"- Previous Scores: 88\")\n",
    "print(f\"- Hours Studied: 10 hours/week\")\n",
    "print(f\"- Tutoring Sessions: 1 session/week\")\n",
    "print(f\"- Physical Activity: 3 hours/week\")"
   ]
  }
 ],
 "metadata": {
  "kernelspec": {
   "display_name": "Python 3",
   "language": "python",
   "name": "python3"
  },
  "language_info": {
   "codemirror_mode": {
    "name": "ipython",
    "version": 3
   },
   "file_extension": ".py",
   "mimetype": "text/x-python",
   "name": "python",
   "nbconvert_exporter": "python",
   "pygments_lexer": "ipython3",
   "version": "3.8.5"
  }
 },
 "nbformat": 4,
 "nbformat_minor": 4
}